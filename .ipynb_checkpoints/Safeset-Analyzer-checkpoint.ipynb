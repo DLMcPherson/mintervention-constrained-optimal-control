{
 "cells": [
  {
   "cell_type": "code",
   "execution_count": 12,
   "metadata": {
    "collapsed": true
   },
   "outputs": [],
   "source": [
    "import level_sets\n",
    "import numpy as np\n",
    "\n",
    "learnedSafety = level_sets.LevelSetFunction(\"dubinsMLE_reachset.json\")"
   ]
  },
  {
   "cell_type": "code",
   "execution_count": null,
   "metadata": {
    "collapsed": false
   },
   "outputs": [],
   "source": []
  },
  {
   "cell_type": "code",
   "execution_count": null,
   "metadata": {
    "collapsed": false
   },
   "outputs": [],
   "source": []
  },
  {
   "cell_type": "code",
   "execution_count": 13,
   "metadata": {
    "collapsed": false
   },
   "outputs": [
    {
     "data": {
      "text/plain": [
       "array([ 9.4045162 ,  4.72931522,  2.35780605])"
      ]
     },
     "execution_count": 13,
     "metadata": {},
     "output_type": "execute_result"
    }
   ],
   "source": [
    "learnedSafety.value([-4,2.1,1.0000001])"
   ]
  },
  {
   "cell_type": "code",
   "execution_count": null,
   "metadata": {
    "collapsed": false
   },
   "outputs": [],
   "source": []
  },
  {
   "cell_type": "code",
   "execution_count": 14,
   "metadata": {
    "collapsed": false
   },
   "outputs": [
    {
     "ename": "AttributeError",
     "evalue": "LevelSetFunction instance has no attribute 'levelSetObject'",
     "output_type": "error",
     "traceback": [
      "\u001b[0;31m---------------------------------------------------------------------------\u001b[0m",
      "\u001b[0;31mAttributeError\u001b[0m                            Traceback (most recent call last)",
      "\u001b[0;32m<ipython-input-14-ad2b384618e4>\u001b[0m in \u001b[0;36m<module>\u001b[0;34m()\u001b[0m\n\u001b[1;32m      1\u001b[0m \u001b[0;32mimport\u001b[0m \u001b[0mnumpy\u001b[0m \u001b[0;32mas\u001b[0m \u001b[0mnp\u001b[0m\u001b[0;34m\u001b[0m\u001b[0m\n\u001b[1;32m      2\u001b[0m \u001b[0;34m\u001b[0m\u001b[0m\n\u001b[0;32m----> 3\u001b[0;31m \u001b[0mgmax\u001b[0m \u001b[0;34m=\u001b[0m \u001b[0mnp\u001b[0m\u001b[0;34m.\u001b[0m\u001b[0marray\u001b[0m\u001b[0;34m(\u001b[0m\u001b[0mlearnedSafety\u001b[0m\u001b[0;34m.\u001b[0m\u001b[0mlevelSetObject\u001b[0m\u001b[0;34m[\u001b[0m\u001b[0;34m\"gmax\"\u001b[0m\u001b[0;34m]\u001b[0m\u001b[0;34m)\u001b[0m\u001b[0;34m\u001b[0m\u001b[0m\n\u001b[0m\u001b[1;32m      4\u001b[0m \u001b[0mgmin\u001b[0m \u001b[0;34m=\u001b[0m \u001b[0mnp\u001b[0m\u001b[0;34m.\u001b[0m\u001b[0marray\u001b[0m\u001b[0;34m(\u001b[0m\u001b[0mlearnedSafety\u001b[0m\u001b[0;34m.\u001b[0m\u001b[0mlevelSetObject\u001b[0m\u001b[0;34m[\u001b[0m\u001b[0;34m\"gmin\"\u001b[0m\u001b[0;34m]\u001b[0m\u001b[0;34m)\u001b[0m\u001b[0;34m\u001b[0m\u001b[0m\n\u001b[1;32m      5\u001b[0m \u001b[0mgdx\u001b[0m  \u001b[0;34m=\u001b[0m \u001b[0mnp\u001b[0m\u001b[0;34m.\u001b[0m\u001b[0marray\u001b[0m\u001b[0;34m(\u001b[0m\u001b[0mlearnedSafety\u001b[0m\u001b[0;34m.\u001b[0m\u001b[0mlevelSetObject\u001b[0m\u001b[0;34m[\u001b[0m\u001b[0;34m\"gdx\"\u001b[0m\u001b[0;34m]\u001b[0m \u001b[0;34m)\u001b[0m\u001b[0;34m\u001b[0m\u001b[0m\n",
      "\u001b[0;31mAttributeError\u001b[0m: LevelSetFunction instance has no attribute 'levelSetObject'"
     ]
    }
   ],
   "source": [
    "import numpy as np\n",
    "\n",
    "gmax = np.array(learnedSafety.levelSetObject[\"gmax\"])\n",
    "gmin = np.array(learnedSafety.levelSetObject[\"gmin\"])\n",
    "gdx  = np.array(learnedSafety.levelSetObject[\"gdx\"] )\n",
    "gN   = np.array(learnedSafety.levelSetObject[\"gN\"]  )\n",
    "\n",
    "indexedState = ( np.array([10,0,3.2]) - np.array(learnedSafety.levelSetObject[\"gmin\"]) ) / np.array(learnedSafety.levelSetObject[\"gdx\"])\n",
    "indexedState = indexedState - ((indexedState > gN) * gN + (indexedState < 0) * gN)*learnedSafety.levelSetObject[\"gperiodicity\"]\n",
    "indexedState"
   ]
  },
  {
   "cell_type": "code",
   "execution_count": 40,
   "metadata": {
    "collapsed": false
   },
   "outputs": [
    {
     "name": "stdout",
     "output_type": "stream",
     "text": [
      "[10, 71, 50]\n",
      "[10, 71, 50]\n",
      "[10, 64, 50]\n",
      "[10, 64, 8]\n"
     ]
    },
    {
     "data": {
      "text/plain": [
       "6.9800857725993453"
      ]
     },
     "execution_count": 40,
     "metadata": {},
     "output_type": "execute_result"
    }
   ],
   "source": [
    "#data = np.array(learnedSafety.levelSetObject[\"data\"])\n",
    "data = learnedSafety.data\n",
    "index = [10,71,50]\n",
    "print(index)\n",
    "for ii,periodicity in enumerate(learnedSafety.gperiodicity):\n",
    "    maxIndex = learnedSafety.gN[ii]\n",
    "    if periodicity:\n",
    "        index[ii] = index[ii] - (index[ii] >=  maxIndex) *  maxIndex + (index[ii] < 0) *  maxIndex\n",
    "        print(index)\n",
    "    else:\n",
    "        if (index[ii] >=  maxIndex):\n",
    "            index[ii] = maxIndex - 1\n",
    "        if (index[ii] < 0):\n",
    "            index[ii] = 0\n",
    "        print(index)\n",
    "data[tuple(index)]"
   ]
  },
  {
   "cell_type": "code",
   "execution_count": 32,
   "metadata": {
    "collapsed": false
   },
   "outputs": [
    {
     "data": {
      "text/plain": [
       "array([65, 65, 42])"
      ]
     },
     "execution_count": 32,
     "metadata": {},
     "output_type": "execute_result"
    }
   ],
   "source": [
    "learnedSafety.gN"
   ]
  },
  {
   "cell_type": "code",
   "execution_count": null,
   "metadata": {
    "collapsed": true
   },
   "outputs": [],
   "source": [
    "import json\n",
    "from pprint import pprint\n",
    "\n",
    "with open('dubins_reachset.json') as f:\n",
    "    data = json.load(f)\n",
    "    \n",
    "data[\"gmin\"]"
   ]
  }
 ],
 "metadata": {
  "kernelspec": {
   "display_name": "Python 2",
   "language": "python",
   "name": "python2"
  },
  "language_info": {
   "codemirror_mode": {
    "name": "ipython",
    "version": 2
   },
   "file_extension": ".py",
   "mimetype": "text/x-python",
   "name": "python",
   "nbconvert_exporter": "python",
   "pygments_lexer": "ipython2",
   "version": "2.7.12"
  }
 },
 "nbformat": 4,
 "nbformat_minor": 0
}
