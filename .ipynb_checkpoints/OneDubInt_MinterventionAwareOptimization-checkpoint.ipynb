{
 "cells": [
  {
   "cell_type": "markdown",
   "metadata": {},
   "source": [
    "# Mintervention Aware Optimization\n",
    "\n",
    "This notebook demonstrates Python algorithms for optimal control constrained by keepout sets. We compare barrier methods to the new Mintervention-aware optimization"
   ]
  },
  {
   "cell_type": "code",
   "execution_count": 1,
   "metadata": {},
   "outputs": [],
   "source": [
    "# Import libraries\n",
    "import numpy as np\n",
    "import matplotlib.pyplot as plt\n",
    "import numpy.linalg as LA\n",
    "%matplotlib inline\n",
    "\n",
    "# David McPherson's personal colors for plotting:\n",
    "colors = [['#cf4c34','#078752','#6333ed','#d6ca54','#0ca0ad','#2ea62a','#c96b0d','#d947bb'],\n",
    "          ['#4C1C13','#073824','#000000','#000000','#000000','#000000','#000000','#000000'],\n",
    "          ['#FF745A','#0BD480','#EEEEEE','#EEEEEE','#EEEEEE','#EEEEEE','#EEEEEE','#EEEEEE']]"
   ]
  },
  {
   "cell_type": "code",
   "execution_count": 2,
   "metadata": {},
   "outputs": [],
   "source": [
    "# Import custom libraries\n",
    "import dlqr\n",
    "import dynamics as dyn\n",
    "startState = np.array([-3,0])\n",
    "\n",
    "# Our double integrator must steer around a fixed obstacle\n",
    "def synthesize_straightline_trajectory_and_obstacle(dynamic,timestep_length,time_horizon,startX,startY):\n",
    "    # Synthetic (non-loaded) trajectories\n",
    "    # Starting trajectory for reactive vehicle\n",
    "    seed_states = np.zeros((dynamic.dimZ,time_horizon+1))\n",
    "    seed_control = np.zeros((dynamic.dimU,time_horizon))\n",
    "    #seed_states[:,0] = np.array([-6,2,3,-1])\n",
    "    #seed_states[:,0] = np.array([-3,1,-1,-1])\n",
    "    seed_states[:,0] = np.array([-3,0.5])\n",
    "    for i in np.arange(0,time_horizon):\n",
    "        seed_control[:,i] = np.zeros((dynamic.dimU,))\n",
    "        seed_states[:,i+1] = seed_states[:,i] + timestep_length * dynamic.f(seed_states[:,i],seed_control[:,i])\n",
    "\n",
    "    # Trajectory of autonomous vehicle (AV)\n",
    "    AVstates = np.zeros((dynamic.dimZ,time_horizon+1))\n",
    "    #    AVstates[:,0] = np.array([5,4,0,0])\n",
    "    AVstates[:,0] = startState\n",
    "    for i in np.arange(0,time_horizon):\n",
    "        AVstates[:,i+1] = np.array([startX,0])\n",
    "    \n",
    "    return AVstates,seed_states,seed_control"
   ]
  },
  {
   "cell_type": "markdown",
   "metadata": {},
   "source": [
    "## Create the initial trajectories"
   ]
  },
  {
   "cell_type": "code",
   "execution_count": null,
   "metadata": {},
   "outputs": [],
   "source": []
  },
  {
   "cell_type": "code",
   "execution_count": 3,
   "metadata": {},
   "outputs": [
    {
     "data": {
      "text/plain": [
       "[<matplotlib.lines.Line2D at 0x121fb79e8>]"
      ]
     },
     "execution_count": 3,
     "metadata": {},
     "output_type": "execute_result"
    },
    {
     "data": {
      "image/png": "[encoded data removed]",
      "text/plain": [
       "<Figure size 720x720 with 1 Axes>"
      ]
     },
     "metadata": {
      "needs_background": "light"
     },
     "output_type": "display_data"
    }
   ],
   "source": [
    "import level_sets\n",
    "dubIntSafety = level_sets.AnalyticDoubleIntegratorLS(5,5,1)\n",
    "\n",
    "def f(x,y):\n",
    "    return(learnedSafety.value([x,y,0]) )\n",
    "\n",
    "#'''\n",
    "delta = 0.2\n",
    "x = np.arange(-6.0, 6.0, delta)\n",
    "y = np.arange(-6.0, 6.0, delta)\n",
    "X, Y = np.meshgrid(x, y)\n",
    "vx = 0\n",
    "z = np.array([dubIntSafety.value([ex,ey]) for ex,ey in zip(X.flatten(),Y.flatten())])\n",
    "Z = z.reshape(X.shape)\n",
    "\n",
    "u = 3*np.array([dubIntSafety.gradient([ex,ey])[0] for ex,ey in zip(X.flatten(),Y.flatten())])\n",
    "U = u.reshape(X.shape)\n",
    "v = 3*np.array([dubIntSafety.gradient([ex,ey])[1] for ex,ey in zip(X.flatten(),Y.flatten())])\n",
    "V = v.reshape(X.shape)\n",
    "\n",
    "plt.figure(figsize=[10,10])\n",
    "plt.axis([-6,6,-6,6])\n",
    "\n",
    "CS = plt.contour(X, Y, Z, [0])\n",
    "#plt.quiver(X,Y, U,V)\n",
    "plt.title('Safesets')\n",
    "\n",
    "dubInt = dyn.DoubleIntegrator()\n",
    "safe_dubInt = dyn.MinimumInterventionDynamicsWrapper(dubInt,dubIntSafety)\n",
    "timestep_length = 0.01\n",
    "\n",
    "obstacle_trajectory,states_init,control_init = synthesize_straightline_trajectory_and_obstacle(safe_dubInt,timestep_length,400,0,0)\n",
    "N = control_init.shape[1]\n",
    "\n",
    "ddd,states_raw,control_raw = synthesize_straightline_trajectory_and_obstacle(dubInt,timestep_length,400,0,0)\n",
    "plt.plot(states_raw[0,:],states_raw[1,:],color=colors[0][0])\n",
    "plt.plot(states_raw[0,np.arange(0,N,20)],states_raw[1,np.arange(0,N,20)],'ro',color=colors[0][0])\n",
    "\n",
    "plt.plot(states_init[0,:],states_init[1,:],color=colors[0][1])\n",
    "plt.plot(states_init[0,np.arange(0,N,20)],states_init[1,np.arange(0,N,20)],'ro',color=colors[0][1])"
   ]
  },
  {
   "cell_type": "code",
   "execution_count": null,
   "metadata": {},
   "outputs": [],
   "source": []
  },
  {
   "cell_type": "code",
   "execution_count": null,
   "metadata": {},
   "outputs": [],
   "source": []
  },
  {
   "cell_type": "markdown",
   "metadata": {},
   "source": [
    "## Set the Agent's goals"
   ]
  },
  {
   "cell_type": "code",
   "execution_count": 4,
   "metadata": {},
   "outputs": [],
   "source": [
    "# Define the Agent's objective function\n",
    "import objective_functions as of\n",
    "import quadratic_objectives as qof\n",
    "import avoidance_objective as caof\n",
    "\n",
    "RR = dlqr.QuadraticForm(dubInt.dimU,np.diag([1]),np.zeros((dubInt.dimU,1)),0)\n",
    "runningControlCost = qof.QuadraticControlCost(RR)\n",
    "v_set = 2\n",
    "QQ = dlqr.QuadraticForm(dubInt.dimZ,np.diag([0,1]),np.array([[0],[-2*v_set]]),v_set*v_set)\n",
    "runningStateCost = qof.QuadraticStateCost(QQ)\n",
    "\n",
    "Qprox = np.diag([10,1])\n",
    "#goal_state = states_init[:,N]\n",
    "start_state = np.array([-3,0])\n",
    "goal_state = np.array([3,0])\n",
    "terminalCost = of.TerminalCost(qof.QuadraticStateCost(\n",
    "        dlqr.QuadraticForm(dubInt.dimZ,Qprox,\n",
    "                           -2*Qprox*np.matrix(goal_state).T,\n",
    "                           np.dot(np.dot(goal_state.transpose(),Qprox),goal_state) )\n",
    "        ) * 40)\n",
    "terminalCost = of.TerminalCost(\n",
    "                qof.QuadraticStateCost(\n",
    "                    dlqr.QuadraticForm(dubInt.dimZ,np.zeros((dubInt.dimZ,dubInt.dimZ)),np.zeros((dubInt.dimZ,1)),0)\n",
    "                    )\n",
    "                )\n",
    "speedKeepingSoftCostToGo = level_sets.GriddedLevelSetFunction(\"dubInt_speedKeeping_softOpt_reachset.json\")\n",
    "terminalCost = of.costToGoLS(speedKeepingSoftCostToGo)\n",
    "\n",
    "#Agent_objective = caof.CollisionAvoidance(obstacle_trajectory)*0.1 + runningControlCost*1 + adaptationPenalty*0.0002\n",
    "Agent_objective = runningControlCost*1 + runningStateCost*1"
   ]
  },
  {
   "cell_type": "markdown",
   "metadata": {},
   "source": [
    "## Optimize the Double Double Integrator system with straight LQR"
   ]
  },
  {
   "cell_type": "code",
   "execution_count": 5,
   "metadata": {},
   "outputs": [],
   "source": [
    "import ilqr\n",
    "\n",
    "A = np.zeros((2,2))\n",
    "A[0,1] = 1\n",
    "B = np.array([[0],[1]])\n",
    "\n",
    "time_horizon = 800\n",
    "N = time_horizon\n",
    "dimZ = 2\n",
    "dimU = 1\n",
    "AN = np.zeros((dimZ,dimZ,N)) # initialize time-array of linear dynamics matrices A_t (for t = [1,N])\n",
    "BN = np.zeros((dimZ,dimU,N)) # initialize time-array of linear control matrices A_t (for t = [1,N])\n",
    "for i in np.arange(0,N):\n",
    "            # Take first order approximation of continuous time dynamics:\n",
    "            #$$    f(x,u,t) ~= \\nabla_x f(x^{old},u^{old},t) (x - x^{old}) + \\nabla_u f(x^{old},u^{old},t) (u - u^{old})    $$\n",
    "            # and also approximate in discrete-time with Euler integration approximation:\n",
    "            #$$    x_{t+1} = x_{t} + \\Delta t * f(x,u,t)    $$\n",
    "            AN[:,:,i] = np.eye(dimZ) + timestep_length*A\n",
    "            BN[:,:,i] = timestep_length*B\n",
    "\n",
    "\n",
    "Q = dlqr.QuadraticForm(dimZ,np.zeros((dimZ,dimZ)),np.zeros((dimZ,1)),0)\n",
    "R = dlqr.QuadraticForm(dimU,np.array([[1]]),np.zeros((dimU,1)),0)\n",
    "QN = [QQ for i in np.arange(0,N)]\n",
    "RN = [RR for i in np.arange(0,N)]\n",
    "\n",
    "P = dlqr.QuadraticForm(dubInt.dimZ,Qprox,\n",
    "                           -2*Qprox*np.matrix(goal_state).T,\n",
    "                           np.dot(np.dot(goal_state.transpose(),Qprox),goal_state) ) * 40\n",
    "P = dlqr.QuadraticForm(dubInt.dimZ,np.zeros((dubInt.dimZ,dubInt.dimZ)),np.zeros((dubInt.dimZ,1)),0)\n",
    "\n",
    "blindOptKN, blindOptkN = ilqr.solveLQR(AN,BN,QN,RN,P,dimZ,dimU,N, 0)\n"
   ]
  },
  {
   "cell_type": "code",
   "execution_count": 6,
   "metadata": {},
   "outputs": [
    {
     "name": "stdout",
     "output_type": "stream",
     "text": [
      "[[4.02714378]]\n"
     ]
    },
    {
     "data": {
      "image/png": "[encoded data removed]",
      "text/plain": [
       "<Figure size 720x720 with 1 Axes>"
      ]
     },
     "metadata": {
      "needs_background": "light"
     },
     "output_type": "display_data"
    }
   ],
   "source": [
    "dcost,dstates,dcontrol = ilqr.assessControlUpdate(np.zeros((dubInt.dimU,N)),np.zeros((dubInt.dimZ,N+1)),blindOptKN,blindOptkN, Agent_objective,terminalCost, startState,dubInt,N,timestep_length, 1,1)\n",
    "print(dcost)\n",
    "\n",
    "plt.figure(figsize=[10,10])\n",
    "plt.axis([-6,6,-6,6])\n",
    "plt.plot(goal_state[0],goal_state[1],'x',color=colors[1][0])\n",
    "\n",
    "plt.plot(dstates[0,:],dstates[1,:],color=colors[2][1])\n",
    "plt.plot(dstates[0,np.arange(0,N,20)],dstates[1,np.arange(0,N,20)],'ro',color=colors[2][1])\n",
    "\n",
    "# Draw the contraint set\n",
    "plt.plot([0,0],[-10,10],color=colors[2][0])\n",
    "plt.axis([-4,4,-4,4])\n",
    "plt.show\n",
    "\n",
    "ignorantStates = np.copy(dstates)\n",
    "ignorantControls = np.copy(dcontrol)"
   ]
  },
  {
   "cell_type": "markdown",
   "metadata": {},
   "source": [
    "# Combine blind LQR solution with Minimum Intervention constraint satisfaction\n",
    "We will use the above solution to the unconstrained LQR problem as the nominal controller alongside a minimum intervention control from reachability-calculated safe sets to synthesize a baseline control that satisfies the constraints. We will show that this piecewise approach is suboptimal compared to the Westenbroek-relaxed solution"
   ]
  },
  {
   "cell_type": "code",
   "execution_count": 7,
   "metadata": {},
   "outputs": [
    {
     "name": "stdout",
     "output_type": "stream",
     "text": [
      "[[16.98689053]]\n"
     ]
    },
    {
     "data": {
      "image/png": "[encoded data removed]",
      "text/plain": [
       "<Figure size 720x720 with 1 Axes>"
      ]
     },
     "metadata": {
      "needs_background": "light"
     },
     "output_type": "display_data"
    }
   ],
   "source": [
    "cost = 0\n",
    "control = np.zeros((dimU,N))\n",
    "states = np.zeros((dimZ,N+1))\n",
    "# Initialize state\n",
    "states[:,0] = np.array([-10,2])\n",
    "# Iterate forward through time\n",
    "for i in np.arange(0,N):\n",
    "    # Add the LQR control perturbation on top of the setpoint control trace used in the Taylor expansion\n",
    "    control[:,i] = np.dot(blindOptKN[:,:,i],states[:,i]) + blindOptkN[:,0,i]\n",
    "    # Euler integrate the state dynamics in response to the control\n",
    "    states[:,i+1] = states[:,i] + timestep_length * safe_dubInt.f(states[:,i],control[:,i])\n",
    "    # Tally the running cost\n",
    "    #cost = cost + timestep_length*R.evaluate(control[:,i]) + timestep_length*Q.evaluate(states[:,i])\n",
    "    cost = cost + timestep_length*Agent_objective.f(states[:,i],control[:,i],i)\n",
    "# Add the terminal cost\n",
    "#cost = cost + timestep_length*P.evaluate(states[:,N])\n",
    "cost = cost + timestep_length*terminalCost.f(states[:,N])\n",
    "print(cost)\n",
    "\n",
    "plt.figure(figsize=[10,10])\n",
    "plt.axis([-6,6,-6,6])\n",
    "#plt.plot(goal_state[0],goal_state[1],'x',color=colors[1][0])\n",
    "\n",
    "plt.plot(states[0,:],states[1,:],color=colors[2][1])\n",
    "plt.plot(states[0,np.arange(0,N,20)],states[1,np.arange(0,N,20)],'ro',color=colors[2][1])\n",
    "\n",
    "# Draw the contraint set\n",
    "plt.plot([0,0],[-10,10],color=colors[2][0])\n",
    "plt.axis([-11,1,-1,5])\n",
    "plt.show\n",
    "\n",
    "minterStates = np.copy(states)\n",
    "minterControls = np.copy(control)"
   ]
  },
  {
   "cell_type": "markdown",
   "metadata": {},
   "source": [
    "## Optimize trajectory with iLQR"
   ]
  },
  {
   "cell_type": "code",
   "execution_count": 8,
   "metadata": {},
   "outputs": [
    {
     "name": "stdout",
     "output_type": "stream",
     "text": [
      "Initialization's cost is  172.56169968197113\n",
      "1 109.6606209685435\n",
      "2 77.41644373382226\n",
      "3 70.0667162479023\n",
      "4 62.38477972999045\n",
      "5 61.34791820206586\n",
      "6 58.858646588170025\n",
      "7 56.2023959975984\n",
      "8 56.01666536486888\n",
      "9 55.13337128046992\n",
      "10 55.07716060731869\n",
      "11 54.858592671674515\n",
      "12 54.821820619418475\n",
      "13 54.757966929748264\n",
      "14 54.7378616933669\n"
     ]
    },
    {
     "data": {
      "image/png": "[encoded data removed]",
      "text/plain": [
       "<Figure size 720x720 with 1 Axes>"
      ]
     },
     "metadata": {
      "needs_background": "light"
     },
     "output_type": "display_data"
    }
   ],
   "source": [
    "import ilqr\n",
    "\n",
    "mintervener_method_states, mintervener_method_controls = ilqr.iterative_LQR(minterStates,minterControls,timestep_length ,safe_dubInt,Agent_objective*10,terminal_cost = terminalCost, neverRetreat=True,ITER_NUM=15)\n",
    "\n",
    "plt.figure(figsize=[10,10])\n",
    "plt.axis([-6,6,-6,6])\n",
    "# Draw the goal\n",
    "plt.plot(goal_state[0],goal_state[1],'x',color=colors[1][0])\n",
    "'''\n",
    "delta = 0.2\n",
    "x = np.arange(-6.0, 6.0, delta)\n",
    "y = np.arange(-6.0, 6.0, delta)\n",
    "X, Y = np.meshgrid(x, y)\n",
    "z = np.array([terminalCost.f([ex,0,ey,0]) for ex,ey in zip(X.flatten(),Y.flatten())])\n",
    "Z = z.reshape(X.shape)\n",
    "CS = plt.contour(X, Y, Z)\n",
    "'''\n",
    "\n",
    "# Plot the resultant trajectories\n",
    "#plt.plot(states_init[0,:],states_init[2,:],color=colors[0][1])\n",
    "#plt.plot(states_init[0,np.arange(0,N,20)],states_init[2,np.arange(0,N,20)],'ro',color=colors[0][1])\n",
    "\n",
    "plt.plot(mintervener_method_states[0,:],mintervener_method_states[1,:],color=colors[2][1])\n",
    "plt.plot(mintervener_method_states[0,np.arange(0,N,20)],mintervener_method_states[1,np.arange(0,N,20)],'ro',color=colors[2][1])\n",
    "\n",
    "# Draw the contraint set\n",
    "plt.plot([0,0],[-10,10],color=colors[2][0])\n",
    "plt.axis([-11,1,-1,5])\n",
    "plt.show\n",
    "#plt.plot(statesLin[0,:],statesLin[1,:],color=colors[0][2])\n",
    "\n",
    "constOptStates = np.copy(mintervener_method_states)\n",
    "constOptControls = np.copy(mintervener_method_controls)"
   ]
  },
  {
   "cell_type": "code",
   "execution_count": null,
   "metadata": {},
   "outputs": [],
   "source": []
  },
  {
   "cell_type": "code",
   "execution_count": null,
   "metadata": {},
   "outputs": [],
   "source": []
  },
  {
   "cell_type": "code",
   "execution_count": null,
   "metadata": {},
   "outputs": [],
   "source": []
  },
  {
   "cell_type": "markdown",
   "metadata": {},
   "source": [
    "# Optimize the trajectory for Evidencing Safety"
   ]
  },
  {
   "cell_type": "code",
   "execution_count": 13,
   "metadata": {},
   "outputs": [
    {
     "name": "stdout",
     "output_type": "stream",
     "text": [
      "Initialization's cost is  54.7378616933669\n",
      "1 62.75555540606897\n",
      "2 60.433126011091524\n",
      "3 61.560983854156476\n",
      "4 64.87832773424822\n",
      "5 61.49448140871986\n",
      "6 69.39849431731184\n",
      "7 63.603301109595606\n",
      "8 59.03762646420262\n",
      "9 65.64300984021608\n",
      "10 65.61241352632278\n",
      "11 65.57915319099304\n",
      "12 65.54273982902707\n",
      "13 65.502539473003\n",
      "14 65.4577107432493\n"
     ]
    },
    {
     "data": {
      "text/plain": [
       "<function matplotlib.pyplot.show(*args, **kw)>"
      ]
     },
     "execution_count": 13,
     "metadata": {},
     "output_type": "execute_result"
    },
    {
     "data": {
      "image/png": "[encoded data removed]",
      "text/plain": [
       "<Figure size 720x720 with 1 Axes>"
      ]
     },
     "metadata": {
      "needs_background": "light"
     },
     "output_type": "display_data"
    }
   ],
   "source": [
    "import ilqr\n",
    "\n",
    "#ignorantStates,ignorantControls[:,0:N]\n",
    "evidential_states, evidential_controls = ilqr.iterative_LegibleLQR(constOptStates,constOptControls,timestep_length, safe_dubInt,Agent_objective*10,constrainedCostToGo, dubInt,Agent_objective*10,unconstrainedCostToGo ,neverRetreat=True,ITER_NUM=15,step_size=0.5)\n",
    "\n",
    "plt.figure(figsize=[10,10])\n",
    "'''\n",
    "delta = 0.2\n",
    "x = np.arange(-6.0, 6.0, delta)\n",
    "y = np.arange(-6.0, 6.0, delta)\n",
    "X, Y = np.meshgrid(x, y)\n",
    "z = np.array([terminalCost.f([ex,0,ey,0]) for ex,ey in zip(X.flatten(),Y.flatten())])\n",
    "Z = z.reshape(X.shape)\n",
    "CS = plt.contour(X, Y, Z)\n",
    "'''\n",
    "\n",
    "# Plot the resultant trajectories\n",
    "#plt.plot(states_init[0,:],states_init[2,:],color=colors[0][1])\n",
    "#plt.plot(states_init[0,np.arange(0,N,20)],states_init[2,np.arange(0,N,20)],'ro',color=colors[0][1])\n",
    "\n",
    "plt.plot(evidential_states[0,:],evidential_states[1,:],color=colors[2][1])\n",
    "plt.plot(evidential_states[0,np.arange(0,N,20)],evidential_states[1,np.arange(0,N,20)],'ro',color=colors[2][1])\n",
    "\n",
    "# Draw the contraint set\n",
    "plt.plot([0,0],[-10,10],color=colors[2][0])\n",
    "plt.axis([-11,1,-1,5])\n",
    "plt.show\n",
    "#plt.plot(statesLin[0,:],statesLin[1,:],color=colors[0][2])"
   ]
  },
  {
   "cell_type": "code",
   "execution_count": null,
   "metadata": {},
   "outputs": [],
   "source": []
  },
  {
   "cell_type": "code",
   "execution_count": null,
   "metadata": {},
   "outputs": [],
   "source": []
  },
  {
   "cell_type": "code",
   "execution_count": null,
   "metadata": {},
   "outputs": [],
   "source": []
  },
  {
   "cell_type": "code",
   "execution_count": null,
   "metadata": {},
   "outputs": [],
   "source": []
  },
  {
   "cell_type": "code",
   "execution_count": null,
   "metadata": {},
   "outputs": [],
   "source": []
  },
  {
   "cell_type": "code",
   "execution_count": null,
   "metadata": {},
   "outputs": [],
   "source": []
  },
  {
   "cell_type": "code",
   "execution_count": null,
   "metadata": {},
   "outputs": [],
   "source": []
  },
  {
   "cell_type": "code",
   "execution_count": null,
   "metadata": {},
   "outputs": [],
   "source": []
  },
  {
   "cell_type": "code",
   "execution_count": null,
   "metadata": {},
   "outputs": [],
   "source": []
  },
  {
   "cell_type": "code",
   "execution_count": null,
   "metadata": {},
   "outputs": [],
   "source": []
  },
  {
   "cell_type": "code",
   "execution_count": null,
   "metadata": {},
   "outputs": [],
   "source": []
  },
  {
   "cell_type": "code",
   "execution_count": null,
   "metadata": {},
   "outputs": [],
   "source": []
  },
  {
   "cell_type": "code",
   "execution_count": null,
   "metadata": {},
   "outputs": [],
   "source": []
  },
  {
   "cell_type": "code",
   "execution_count": null,
   "metadata": {},
   "outputs": [],
   "source": []
  },
  {
   "cell_type": "code",
   "execution_count": null,
   "metadata": {},
   "outputs": [],
   "source": []
  },
  {
   "cell_type": "code",
   "execution_count": null,
   "metadata": {},
   "outputs": [],
   "source": []
  },
  {
   "cell_type": "code",
   "execution_count": null,
   "metadata": {},
   "outputs": [],
   "source": []
  },
  {
   "cell_type": "code",
   "execution_count": null,
   "metadata": {},
   "outputs": [],
   "source": []
  },
  {
   "cell_type": "code",
   "execution_count": null,
   "metadata": {},
   "outputs": [],
   "source": []
  },
  {
   "cell_type": "code",
   "execution_count": null,
   "metadata": {
    "collapsed": true
   },
   "outputs": [],
   "source": []
  },
  {
   "cell_type": "code",
   "execution_count": null,
   "metadata": {
    "scrolled": true
   },
   "outputs": [],
   "source": []
  },
  {
   "cell_type": "code",
   "execution_count": null,
   "metadata": {
    "collapsed": true
   },
   "outputs": [],
   "source": []
  },
  {
   "cell_type": "code",
   "execution_count": null,
   "metadata": {
    "collapsed": true
   },
   "outputs": [],
   "source": []
  },
  {
   "cell_type": "code",
   "execution_count": null,
   "metadata": {},
   "outputs": [],
   "source": []
  },
  {
   "cell_type": "code",
   "execution_count": null,
   "metadata": {},
   "outputs": [],
   "source": []
  },
  {
   "cell_type": "code",
   "execution_count": null,
   "metadata": {
    "collapsed": true
   },
   "outputs": [],
   "source": []
  },
  {
   "cell_type": "code",
   "execution_count": null,
   "metadata": {
    "collapsed": true
   },
   "outputs": [],
   "source": []
  },
  {
   "cell_type": "code",
   "execution_count": null,
   "metadata": {
    "collapsed": true
   },
   "outputs": [],
   "source": []
  }
 ],
 "metadata": {
  "kernelspec": {
   "display_name": "Python 3",
   "language": "python",
   "name": "python3"
  },
  "language_info": {
   "codemirror_mode": {
    "name": "ipython",
    "version": 3
   },
   "file_extension": ".py",
   "mimetype": "text/x-python",
   "name": "python",
   "nbconvert_exporter": "python",
   "pygments_lexer": "ipython3",
   "version": "3.7.3"
  }
 },
 "nbformat": 4,
 "nbformat_minor": 2
}
