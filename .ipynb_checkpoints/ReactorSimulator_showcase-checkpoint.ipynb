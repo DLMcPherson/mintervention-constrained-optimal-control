{
 "cells": [
  {
   "cell_type": "markdown",
   "metadata": {},
   "source": [
    "# Reactive Motorist Simulation via iterative LQR\n",
    "\n",
    "This notebook demonstrates Python algorithms for simulating a human motorist's response to given trajectories of our Autonomous Vehicle (AV). The idea being that the QA specialists' judgements can be modeled by mental simulation. We will tune this Python simulator to generate predictions to match those labels provided by the QA gold standard mental simulator.\n",
    "\n",
    "Our safety question is currently scoped to ask only whether it is possible to avoid a crash. Therefore we model the human motorist as doing everything in their power to avoid crashing with our vehicle (and abandoning all other objectives). This is an overly barebones model that neglects motorists' preference for staying within the lanes and getting close to their final destination. As a crass heuristic for incorporating some of this information, we regularize the optimization to keep the trajectory close to the human's observed trajectory that is fed in as an initialization."
   ]
  },
  {
   "cell_type": "code",
   "execution_count": 25,
   "metadata": {
    "collapsed": true
   },
   "outputs": [],
   "source": [
    "# Import libraries\n",
    "import numpy as np\n",
    "import matplotlib.pyplot as plt\n",
    "import numpy.linalg as LA\n",
    "%matplotlib inline\n",
    "\n",
    "# David McPherson's personal colors for plotting:\n",
    "colors = [['#cf4c34','#078752','#6333ed','#d6ca54','#0ca0ad','#2ea62a','#c96b0d','#d947bb'],\n",
    "          ['#4C1C13','#073824','#000000','#000000','#000000','#000000','#000000','#000000'],\n",
    "          ['#FF745A','#0BD480','#EEEEEE','#EEEEEE','#EEEEEE','#EEEEEE','#EEEEEE','#EEEEEE']]"
   ]
  },
  {
   "cell_type": "code",
   "execution_count": 39,
   "metadata": {
    "collapsed": true
   },
   "outputs": [],
   "source": [
    "# Import custom libraries\n",
    "import dlqr\n",
    "import dynamics as dyn\n",
    "\n",
    "# Functions for creating trajectories\n",
    "# Our Dubins car must steer around another dubins car (the AVoid car)\n",
    "def synthesize_straightline_trajectories(dynamic,timestep_length,time_horizon):\n",
    "    # Synthetic (non-loaded) trajectories\n",
    "    # Starting trajectory for reactive vehicle\n",
    "    seed_states = np.zeros((dynamic.dimZ,time_horizon+1))\n",
    "    seed_control = np.zeros((dynamic.dimU,time_horizon))\n",
    "    seed_states[:,0] = np.array([10,10,np.pi*1.25,10*np.sqrt(2)/4])\n",
    "    for i in np.arange(0,time_horizon):\n",
    "        seed_control[:,i] = np.zeros((dynamic.dimU,))\n",
    "        seed_states[:,i+1] = seed_states[:,i] + timestep_length * dynamic.f(seed_states[:,i],seed_control[:,i])\n",
    "\n",
    "    # Trajectory of the AVoid car\n",
    "    AVstate = np.array([5,-1.5,np.pi/2,3]) \n",
    "    AVcontrol = np.zeros((dynamic.dimU,time_horizon+1))\n",
    "    AVcontrol = np.zeros((dynamic.dimU,time_horizon+1))\n",
    "    AVstates = np.zeros((dynamic.dimZ,time_horizon+1))\n",
    "    AVstates[:,0] = AVstate\n",
    "    for i in np.arange(0,time_horizon):\n",
    "        AVcontrol[:,i] = np.zeros((dynamic.dimU,))\n",
    "        AVstates[:,i+1] = AVstates[:,i] + timestep_length * dynamic.f(AVstates[:,i],AVcontrol[:,i])\n",
    "    \n",
    "    return AVstates,seed_states,seed_control\n",
    "\n",
    "# Our Dubins car must steer around a fixed obstacle\n",
    "def synthesize_straightline_trajectory_and_obstacle(dynamic,timestep_length,time_horizon,startX,startY):\n",
    "    # Synthetic (non-loaded) trajectories\n",
    "    # Starting trajectory for reactive vehicle\n",
    "    seed_states = np.zeros((dynamic.dimZ,time_horizon+1))\n",
    "    seed_control = np.zeros((dynamic.dimU,time_horizon))\n",
    "    seed_states[:,0] = np.array([10,10,np.pi*1.25,10*np.sqrt(2)/4])\n",
    "    for i in np.arange(0,time_horizon):\n",
    "        seed_control[:,i] = np.zeros((dynamic.dimU,))\n",
    "        seed_states[:,i+1] = seed_states[:,i] + timestep_length * dynamic.f(seed_states[:,i],seed_control[:,i])\n",
    "\n",
    "    # Trajectory of autonomous vehicle (AV)\n",
    "    AVcontrol = np.zeros((dynamic.dimU,time_horizon+1))\n",
    "    AVcontrol = np.zeros((dynamic.dimU,time_horizon+1))\n",
    "    AVstates = np.zeros((dynamic.dimZ,time_horizon+1))\n",
    "    #    AVstates[:,0] = np.array([5,4,0,0])\n",
    "    AVstates[:,0] = np.array([startX,startY,0,0])\n",
    "    for i in np.arange(0,time_horizon):\n",
    "        AVcontrol[:,i] = np.zeros((dynamic.dimU,))\n",
    "        AVstates[:,i+1] = AVstates[:,i] + timestep_length * dynamic.f(AVstates[:,i],AVcontrol[:,i])\n",
    "    \n",
    "    return AVstates,seed_states,seed_control"
   ]
  },
  {
   "cell_type": "markdown",
   "metadata": {},
   "source": [
    "## Import the Takeover trajectories\n",
    "Run one of the two below cells to initialize the simulator with the ghost AV trajectory and the seed trajectory for the Reactor. The first cell synthesizes an artificial trajectory and is sufficient for demonstrating how to use the code."
   ]
  },
  {
   "cell_type": "code",
   "execution_count": 40,
   "metadata": {
    "collapsed": false
   },
   "outputs": [],
   "source": [
    "dubins = dyn.DubinsCarDynamics()\n",
    "timestep_length = 0.01\n",
    "\n",
    "ghost_AV_states,live_reactor_states,live_reactor_control = synthesize_straightline_trajectories(dubins,timestep_length,400)\n",
    "N = live_reactor_control.shape[1]"
   ]
  },
  {
   "cell_type": "code",
   "execution_count": null,
   "metadata": {
    "collapsed": false
   },
   "outputs": [],
   "source": []
  },
  {
   "cell_type": "markdown",
   "metadata": {},
   "source": [
    "## Model the Reactor's goals"
   ]
  },
  {
   "cell_type": "code",
   "execution_count": 47,
   "metadata": {
    "collapsed": false
   },
   "outputs": [],
   "source": [
    "# Define the reactor's objective function\n",
    "import objective_functions as of\n",
    "import quadratic_objectives as qof\n",
    "import avoidance_objective as caof\n",
    "\n",
    "runningControlCost = qof.QuadraticControlCost(dlqr.QuadraticForm(dubins.dimU,np.diag([0.01,10]),np.zeros((dubins.dimU,1)),0))\n",
    "\n",
    "Qprox = np.diag([1,1,0.5,0.1])\n",
    "Qprox = np.diag([0.1,0.1,1,0])\n",
    "adaptationPenalty = of.TimeSequencedCosts([qof.QuadraticStateCost(\n",
    "        dlqr.QuadraticForm(dubins.dimZ,Qprox,-2*Qprox*np.matrix(live_reactor_states[:,timestep]).T, np.dot(np.dot(live_reactor_states[:,timestep].transpose(),Qprox),live_reactor_states[:,timestep]) )\n",
    "        ) for timestep in np.arange(0,N)])\n",
    "\n",
    "Qprox = np.diag([1,1,0.5,0.1])\n",
    "terminalCost = of.TerminalCost(qof.QuadraticStateCost(\n",
    "        dlqr.QuadraticForm(dubins.dimZ,Qprox,\n",
    "                           -2*Qprox*np.matrix(live_reactor_states[:,N]).T,\n",
    "                           np.dot(np.dot(live_reactor_states[:,N].transpose(),Qprox),live_reactor_states[:,N]) )\n",
    "        ) * 0.4)\n",
    "\n",
    "\n",
    "reactor_objective = caof.CollisionAvoidance(ghost_AV_states)*0.1 + runningControlCost*1 + adaptationPenalty*0.0002"
   ]
  },
  {
   "cell_type": "markdown",
   "metadata": {},
   "source": [
    "## Simulate the Reactor with iLQR"
   ]
  },
  {
   "cell_type": "code",
   "execution_count": 48,
   "metadata": {
    "collapsed": false
   },
   "outputs": [
    {
     "name": "stdout",
     "output_type": "stream",
     "text": [
      "(\"Initialization's cost is \", matrix([[ 0.11539292]]))\n",
      "(1, matrix([[ 0.5771057]]))\n",
      "(2, matrix([[ 1.9928677]]))\n",
      "(3, matrix([[ 1.48507526]]))\n",
      "(4, matrix([[ 1.19842888]]))\n",
      "(5, matrix([[ 1.07502538]]))\n",
      "(6, matrix([[ 1.04774756]]))\n",
      "(7, matrix([[ 1.38082902]]))\n",
      "(8, matrix([[ 1.15586579]]))\n",
      "(9, matrix([[ 1.07387046]]))\n"
     ]
    },
    {
     "data": {
      "text/plain": [
       "<function matplotlib.pyplot.show>"
      ]
     },
     "execution_count": 48,
     "metadata": {},
     "output_type": "execute_result"
    },
    {
     "data": {
      "image/png": "[encoded data removed]",
      "text/plain": [
       "<matplotlib.figure.Figure at 0x105d3a050>"
      ]
     },
     "metadata": {},
     "output_type": "display_data"
    }
   ],
   "source": [
    "import ilqr\n",
    "\n",
    "ghost_reactor_states = ilqr.iterative_LQR(live_reactor_states,live_reactor_control,dubins,reactor_objective,timestep_length,terminal_cost = terminalCost,neverRetreat=True)\n",
    "                            \n",
    "# Plot the resultant ghostly trajectories\n",
    "#plt.figure(figsize=(10,10))\n",
    "plt.plot(ghost_reactor_states[0,:],ghost_reactor_states[1,:],color=colors[2][1])\n",
    "plt.plot(ghost_reactor_states[0,np.arange(0,N,20)],ghost_reactor_states[1,np.arange(0,N,20)],'ro',color=colors[2][1])\n",
    "plt.plot(live_reactor_states[0,:],live_reactor_states[1,:],color=colors[0][1])\n",
    "plt.plot(live_reactor_states[0,np.arange(0,N,20)],live_reactor_states[1,np.arange(0,N,20)],'ro',color=colors[0][1])\n",
    "\n",
    "plt.plot(ghost_AV_states[0,:],ghost_AV_states[1,:],color=colors[2][0])\n",
    "plt.plot(ghost_AV_states[0,np.arange(0,N,20)],ghost_AV_states[1,np.arange(0,N,20)],'ro',color=colors[2][0])\n",
    "\n",
    "\n",
    "plt.axis('equal')\n",
    "plt.show\n",
    "#plt.plot(statesLin[0,:],statesLin[1,:],color=colors[0][2])"
   ]
  },
  {
   "cell_type": "code",
   "execution_count": null,
   "metadata": {
    "collapsed": true
   },
   "outputs": [],
   "source": []
  },
  {
   "cell_type": "code",
   "execution_count": null,
   "metadata": {
    "collapsed": true
   },
   "outputs": [],
   "source": []
  },
  {
   "cell_type": "code",
   "execution_count": null,
   "metadata": {
    "collapsed": true
   },
   "outputs": [],
   "source": []
  },
  {
   "cell_type": "code",
   "execution_count": null,
   "metadata": {
    "collapsed": true
   },
   "outputs": [],
   "source": []
  },
  {
   "cell_type": "code",
   "execution_count": null,
   "metadata": {
    "collapsed": true
   },
   "outputs": [],
   "source": []
  },
  {
   "cell_type": "code",
   "execution_count": null,
   "metadata": {
    "collapsed": true
   },
   "outputs": [],
   "source": []
  },
  {
   "cell_type": "code",
   "execution_count": null,
   "metadata": {
    "collapsed": true
   },
   "outputs": [],
   "source": []
  },
  {
   "cell_type": "code",
   "execution_count": null,
   "metadata": {
    "collapsed": true
   },
   "outputs": [],
   "source": []
  },
  {
   "cell_type": "code",
   "execution_count": null,
   "metadata": {
    "collapsed": true,
    "scrolled": true
   },
   "outputs": [],
   "source": []
  },
  {
   "cell_type": "code",
   "execution_count": null,
   "metadata": {
    "collapsed": true
   },
   "outputs": [],
   "source": []
  },
  {
   "cell_type": "code",
   "execution_count": null,
   "metadata": {
    "collapsed": true
   },
   "outputs": [],
   "source": []
  },
  {
   "cell_type": "markdown",
   "metadata": {},
   "source": [
    "# Animate the trajectories\n",
    "If you like you can generate a video to better visualize the reactions. Note that you will need to manually set the viewing window `xlim` and `ylim` in the `add_subplot` function."
   ]
  },
  {
   "cell_type": "code",
   "execution_count": 8,
   "metadata": {
    "collapsed": false
   },
   "outputs": [
    {
     "ename": "AttributeError",
     "evalue": "'FuncAnimation' object has no attribute 'to_html5_video'",
     "output_type": "error",
     "traceback": [
      "\u001b[0;31m---------------------------------------------------------------------------\u001b[0m",
      "\u001b[0;31mAttributeError\u001b[0m                            Traceback (most recent call last)",
      "\u001b[0;32m<ipython-input-8-07503f96b85c>\u001b[0m in \u001b[0;36m<module>\u001b[0;34m()\u001b[0m\n\u001b[1;32m     55\u001b[0m \u001b[0mmywriter\u001b[0m \u001b[0;34m=\u001b[0m \u001b[0manimation\u001b[0m\u001b[0;34m.\u001b[0m\u001b[0mFFMpegWriter\u001b[0m\u001b[0;34m(\u001b[0m\u001b[0mfps\u001b[0m\u001b[0;34m=\u001b[0m\u001b[0;36m15\u001b[0m\u001b[0;34m)\u001b[0m \u001b[0;31m# increase number for faster animation\u001b[0m\u001b[0;34m\u001b[0m\u001b[0m\n\u001b[1;32m     56\u001b[0m \u001b[0manim\u001b[0m\u001b[0;34m.\u001b[0m\u001b[0msave\u001b[0m\u001b[0;34m(\u001b[0m\u001b[0;34m'cars.mp4'\u001b[0m\u001b[0;34m,\u001b[0m \u001b[0mwriter\u001b[0m\u001b[0;34m=\u001b[0m\u001b[0mmywriter\u001b[0m\u001b[0;34m)\u001b[0m\u001b[0;34m\u001b[0m\u001b[0m\n\u001b[0;32m---> 57\u001b[0;31m \u001b[0mHTML\u001b[0m\u001b[0;34m(\u001b[0m\u001b[0manim\u001b[0m\u001b[0;34m.\u001b[0m\u001b[0mto_html5_video\u001b[0m\u001b[0;34m(\u001b[0m\u001b[0;34m)\u001b[0m\u001b[0;34m)\u001b[0m\u001b[0;34m\u001b[0m\u001b[0m\n\u001b[0m\u001b[1;32m     58\u001b[0m \u001b[0mrc\u001b[0m\u001b[0;34m(\u001b[0m\u001b[0;34m'animation'\u001b[0m\u001b[0;34m,\u001b[0m \u001b[0mhtml\u001b[0m\u001b[0;34m=\u001b[0m\u001b[0;34m'html5'\u001b[0m\u001b[0;34m)\u001b[0m\u001b[0;34m\u001b[0m\u001b[0m\n\u001b[1;32m     59\u001b[0m \u001b[0;31m#anim\u001b[0m\u001b[0;34m\u001b[0m\u001b[0;34m\u001b[0m\u001b[0m\n",
      "\u001b[0;31mAttributeError\u001b[0m: 'FuncAnimation' object has no attribute 'to_html5_video'"
     ]
    },
    {
     "data": {
      "image/png": "[encoded data removed]",
      "text/plain": [
       "<matplotlib.figure.Figure at 0x107a7f310>"
      ]
     },
     "metadata": {},
     "output_type": "display_data"
    }
   ],
   "source": [
    "# Animate the trajectories\n",
    "from matplotlib import animation, rc # import the animation libraries\n",
    "from IPython.display import HTML # import libraries to embed animation in Jupyter\n",
    "%matplotlib inline\n",
    "\n",
    "# Create the figure\n",
    "fig = plt.figure(figsize=(7,7))\n",
    "ax = fig.add_subplot(111, autoscale_on=False, xlim=(-5, 15), ylim=(-5, 15))\n",
    "#ax.grid()\n",
    "\n",
    "# Initialize the lines for drawing the cars\n",
    "ghost_AV, = ax.plot([], [], '-', lw=2, color = colors[2][0])\n",
    "ghost_reactor, = ax.plot([], [], '-', lw=2, color = colors[2][1])\n",
    "live_reactor, = ax.plot([], [], '-', lw=2, color = colors[0][1])\n",
    "# Labeling\n",
    "time_template = 'time = %.1fs'\n",
    "time_text = ax.text(0.05, 0.9, '', transform=ax.transAxes)\n",
    "plt.legend([\"ghost AV\",\"ghost reactor\",\"live reactor\"])\n",
    "\n",
    "# Convenience function for plotting rectangular perimeter of a 4 meter by 2 meter car\n",
    "def drawCar(line,state):\n",
    "    x = state[0]\n",
    "    y = state[1]\n",
    "    s = np.sin(state[2])\n",
    "    c = np.cos(state[2])\n",
    "    lon = [c*2, s*2]\n",
    "    lat = [s*1,-c*1]\n",
    "    xpoints = [x+lat[0]+lon[0],x-lat[0]+lon[0],x-lat[0]-lon[0],x+lat[0]-lon[0],x+lat[0]+lon[0]]\n",
    "    ypoints = [y+lat[1]+lon[1],y-lat[1]+lon[1],y-lat[1]-lon[1],y+lat[1]-lon[1],y+lat[1]+lon[1]]\n",
    "    line.set_data(xpoints,ypoints)\n",
    "\n",
    "# Function for intializing the animation\n",
    "def init():\n",
    "    ghost_reactor.set_data([], [])\n",
    "    ghost_AV.set_data([], [])\n",
    "    live_reactor.set_data([], [])\n",
    "    time_text.set_text('')\n",
    "    return ghost_reactor,ghost_AV,live_reactor, time_text\n",
    "\n",
    "# Animation function called each time step\n",
    "def animate(i):\n",
    "    # Draw the cars at this time step\n",
    "    drawCar(ghost_reactor,ghost_reactor_states[:,i])\n",
    "    drawCar(live_reactor,live_reactor_states[:,i])\n",
    "    drawCar(ghost_AV,ghost_AV_states[:,i])\n",
    "    # Update the time label\n",
    "    time_text.set_text(time_template % (i*timestep_length))\n",
    "    \n",
    "    return ghost_reactor,ghost_AV,live_reactor,time_text\n",
    "\n",
    "# Generate the animation\n",
    "anim = animation.FuncAnimation(fig, animate, np.arange(1, len(ghost_AV_states[0,:])),\n",
    "                              interval=25, blit=True, init_func=init)\n",
    "# Save the animation to a file (with 15 frames per second)\n",
    "mywriter = animation.FFMpegWriter(fps=15) # increase number for faster animation\n",
    "anim.save('cars.mp4', writer=mywriter)\n",
    "HTML(anim.to_html5_video())\n",
    "rc('animation', html='html5')\n",
    "#anim\n",
    "#plt.show()"
   ]
  },
  {
   "cell_type": "code",
   "execution_count": null,
   "metadata": {
    "collapsed": true
   },
   "outputs": [],
   "source": []
  },
  {
   "cell_type": "code",
   "execution_count": null,
   "metadata": {
    "collapsed": true
   },
   "outputs": [],
   "source": []
  },
  {
   "cell_type": "code",
   "execution_count": null,
   "metadata": {
    "collapsed": true
   },
   "outputs": [],
   "source": []
  }
 ],
 "metadata": {
  "kernelspec": {
   "display_name": "Python 2",
   "language": "python",
   "name": "python2"
  },
  "language_info": {
   "codemirror_mode": {
    "name": "ipython",
    "version": 2
   },
   "file_extension": ".py",
   "mimetype": "text/x-python",
   "name": "python",
   "nbconvert_exporter": "python",
   "pygments_lexer": "ipython2",
   "version": "2.7.12"
  }
 },
 "nbformat": 4,
 "nbformat_minor": 2
}
